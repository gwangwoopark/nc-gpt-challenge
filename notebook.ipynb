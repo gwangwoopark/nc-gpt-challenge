{
 "cells": [
  {
   "cell_type": "code",
   "execution_count": 6,
   "id": "b669d79b",
   "metadata": {},
   "outputs": [],
   "source": [
    "from langchain.chat_models import ChatOpenAI\n",
    "\n",
    "chat = ChatOpenAI(\n",
    "    temperature=0.1\n",
    ")"
   ]
  },
  {
   "cell_type": "code",
   "execution_count": 8,
   "id": "d65dabb7",
   "metadata": {},
   "outputs": [
    {
     "data": {
      "text/plain": [
       "AIMessage(content='Ciao! La distanza tra Roma e Napoli è di circa 225 chilometri. Come ti chiami?')"
      ]
     },
     "execution_count": 8,
     "metadata": {},
     "output_type": "execute_result"
    }
   ],
   "source": [
    "from langchain.schema import HumanMessage, SystemMessage, AIMessage\n",
    "\n",
    "messages = [\n",
    "    SystemMessage(content=\"You are a a geography expert. And you only reply in Itailian.\"),\n",
    "    AIMessage(content=\"Ciao, mi chiamo Paolo!\"),\n",
    "    HumanMessage(content=\"What is the distance between Rome and Naples? Also, what is your name?\"),\n",
    "]\n",
    "\n",
    "chat.predict_messages(messages)\n",
    "\n"
   ]
  },
  {
   "cell_type": "code",
   "execution_count": 13,
   "id": "c3b1992d",
   "metadata": {},
   "outputs": [
    {
     "data": {
      "text/plain": [
       "'The distance between Italy and France varies depending on the specific locations being compared. However, the approximate distance between the two countries is around 500-600 kilometers (310-370 miles) when measuring from the northern border of Italy to the southern border of France.'"
      ]
     },
     "execution_count": 13,
     "metadata": {},
     "output_type": "execute_result"
    }
   ],
   "source": [
    "from langchain.prompts import PromptTemplate, ChatPromptTemplate\n",
    "\n",
    "template = PromptTemplate.from_template(\"Whate is the distance between {country_a} and {country_b}?\")\n",
    "prompt = template.format(country_a=\"Italy\", country_b=\"France\")\n",
    "\n",
    "chat.predict(prompt)\n",
    "\n"
   ]
  },
  {
   "cell_type": "code",
   "execution_count": 20,
   "id": "dd223aa9",
   "metadata": {},
   "outputs": [
    {
     "data": {
      "text/plain": [
       "AIMessage(content='Καλησπέρα, το όνομά μου είναι Παναγιώτης. Η απόσταση μεταξύ Ιταλίας και Γαλλίας είναι περίπου 1000 χιλιόμετρα.')"
      ]
     },
     "execution_count": 20,
     "metadata": {},
     "output_type": "execute_result"
    }
   ],
   "source": [
    "from langchain.prompts import PromptTemplate, ChatPromptTemplate\n",
    "\n",
    "template = ChatPromptTemplate.from_messages([\n",
    "    (\"system\", \"You are a a geography expert. And you only reply in {language}.\"),\n",
    "    (\"ai\", \"Ciao, mi chiamo {name}!\"),\n",
    "    (\"human\", \"What is the distance between {country_a} and {country_b}? Also, what is your name?\"),\n",
    "])\n",
    "\n",
    "prompt = template.format_messages(language=\"Greek\", country_a=\"Italy\", country_b=\"France\", name=\"Paolo\")\n",
    "\n",
    "\n",
    "chat.predict_messages(prompt)\n"
   ]
  },
  {
   "cell_type": "code",
   "execution_count": 22,
   "id": "82da4ed2",
   "metadata": {},
   "outputs": [
    {
     "data": {
      "text/plain": [
       "['Hello', 'world!']"
      ]
     },
     "execution_count": 22,
     "metadata": {},
     "output_type": "execute_result"
    }
   ],
   "source": [
    "from langchain.schema import BaseOutputParser\n",
    "\n",
    "class CommaOutputParser(BaseOutputParser):\n",
    "    def parse(self, text: str) -> str:\n",
    "        items = text.strip().split(\",\")\n",
    "        return [item.strip() for item in items]\n",
    "\n",
    "parser = CommaOutputParser()\n",
    "parser.parse(\"Hello, world!\")\n",
    "\n",
    "\n"
   ]
  },
  {
   "cell_type": "code",
   "execution_count": 31,
   "id": "a28ff34c",
   "metadata": {},
   "outputs": [
    {
     "data": {
      "text/plain": [
       "['red',\n",
       " 'blue',\n",
       " 'green',\n",
       " 'yellow',\n",
       " 'orange',\n",
       " 'purple',\n",
       " 'pink',\n",
       " 'black',\n",
       " 'white',\n",
       " 'brown']"
      ]
     },
     "execution_count": 31,
     "metadata": {},
     "output_type": "execute_result"
    }
   ],
   "source": [
    "from langchain.prompts import ChatPromptTemplate\n",
    "\n",
    "template = ChatPromptTemplate.from_messages([\n",
    "    (\"system\", \"You are a list generating machine. Everything you are asked will be answered with a comma separated list of max {max_items} in lower case. Do NOT reply with anything else.\"),\n",
    "    (\"human\", \"{question}\"),\n",
    "])\n",
    "\n",
    "prompt = template.format_messages(question=\"What are the colors??\", max_items=10)\n",
    "result = chat.predict_messages(prompt)\n",
    "\n",
    "parser = CommaOutputParser()\n",
    "parser.parse(result.content)\n"
   ]
  },
  {
   "cell_type": "code",
   "execution_count": 34,
   "id": "88be32ab",
   "metadata": {},
   "outputs": [
    {
     "data": {
      "text/plain": [
       "['red',\n",
       " 'blue',\n",
       " 'green',\n",
       " 'yellow',\n",
       " 'orange',\n",
       " 'purple',\n",
       " 'pink',\n",
       " 'black',\n",
       " 'white',\n",
       " 'brown']"
      ]
     },
     "execution_count": 34,
     "metadata": {},
     "output_type": "execute_result"
    }
   ],
   "source": [
    "chain = template | chat | CommaOutputParser()\n",
    "\n",
    "chain.invoke({\"question\": \"What are the colors?\", \"max_items\": 10})\n"
   ]
  },
  {
   "cell_type": "code",
   "execution_count": 44,
   "id": "a19ecd7b",
   "metadata": {},
   "outputs": [
    {
     "name": "stdout",
     "output_type": "stream",
     "text": [
      "Event-driven, fast,\n",
      "JavaScript on server side,\n",
      "Node.js takes flight.이 해구는 5-7-5 소절 구조를 가지고 있습니다. \"이벤트 중심, 빠른,\" \"서버 측 자바스크립트,\" \"Node.js가 비행\"이라는 세 줄로 구성되어 있습니다. \n",
      "\n",
      "해당 해구는 기술적인 주제를 다루고 있습니다. \"이벤트 중심\"과 \"빠른\"이라는 단어는 Node.js의 주요 특징을 강조하며, \"서버 측 자바스크립트\"는 Node.js가 서버 측에서 자바스크립트를 실행할 수 있는 능력을 나타냅니다. 마지막 줄인 \"Node.js가 비행\"은 Node.js가 혁신적이고 발전적인 기술이라는 의미를 내포하고 있습니다. \n",
      "\n",
      "이 해구는 기술적인 혁신과 발전에 대한 열정을 담고 있으며, Node.js의 특징과 장점을 강조하고 있습니다. 이를 통해 자바스크립트 개발자들에게 Node.js의 중요성과 가치를 상기시키는 역할을 합니다."
     ]
    },
    {
     "data": {
      "text/plain": [
       "AIMessageChunk(content='이 해구는 5-7-5 소절 구조를 가지고 있습니다. \"이벤트 중심, 빠른,\" \"서버 측 자바스크립트,\" \"Node.js가 비행\"이라는 세 줄로 구성되어 있습니다. \\n\\n해당 해구는 기술적인 주제를 다루고 있습니다. \"이벤트 중심\"과 \"빠른\"이라는 단어는 Node.js의 주요 특징을 강조하며, \"서버 측 자바스크립트\"는 Node.js가 서버 측에서 자바스크립트를 실행할 수 있는 능력을 나타냅니다. 마지막 줄인 \"Node.js가 비행\"은 Node.js가 혁신적이고 발전적인 기술이라는 의미를 내포하고 있습니다. \\n\\n이 해구는 기술적인 혁신과 발전에 대한 열정을 담고 있으며, Node.js의 특징과 장점을 강조하고 있습니다. 이를 통해 자바스크립트 개발자들에게 Node.js의 중요성과 가치를 상기시키는 역할을 합니다.')"
      ]
     },
     "execution_count": 44,
     "metadata": {},
     "output_type": "execute_result"
    }
   ],
   "source": [
    "from langchain.chat_models import ChatOpenAI\n",
    "from langchain.prompts import ChatPromptTemplate\n",
    "from langchain.callbacks import StreamingStdOutCallbackHandler\n",
    "\n",
    "chat = ChatOpenAI(\n",
    "    temperature=0.1,\n",
    "    streaming=True,\n",
    "    callbacks=[StreamingStdOutCallbackHandler()]\n",
    ")\n",
    "\n",
    "writing_prompt = ChatPromptTemplate.from_messages([\n",
    "    (\"system\", \"You are specialized in writing haikus about programming languages. Always generate responses in the form of a haiku (5-7-5 syllable structure) and ensure each haiku centers around themes of programming, coding languages, or software development. Be concise, creative, and poetic.\"),\n",
    "    (\"human\", \"{language}\"),\n",
    "])\n",
    "\n",
    "writing_chain = writing_prompt | chat \n",
    "\n",
    "reading_prompt = ChatPromptTemplate.from_messages([\n",
    "    (\"system\", \"You are specialized in explaining haikus. When given a haiku, analyze its structure (syllable pattern, imagery, seasonal or thematic elements) and explain its meaning in a clear, thoughtful way in Korean. Focus on uncovering the poetic devices, cultural context, and emotional nuance. Be concise, insightful, and accessible to readers.\"),\n",
    "    (\"human\", \"{haiku}\"),\n",
    "])\n",
    "\n",
    "reading_chain = reading_prompt | chat\n",
    "\n",
    "final_chain = {\"haiku\": writing_chain} | reading_chain\n",
    "\n",
    "final_chain.invoke({\"language\": \"nodejs\"})\n",
    "\n"
   ]
  },
  {
   "cell_type": "code",
   "execution_count": null,
   "id": "efc53ec4",
   "metadata": {},
   "outputs": [],
   "source": []
  }
 ],
 "metadata": {
  "kernelspec": {
   "display_name": ".venv",
   "language": "python",
   "name": "python3"
  },
  "language_info": {
   "codemirror_mode": {
    "name": "ipython",
    "version": 3
   },
   "file_extension": ".py",
   "mimetype": "text/x-python",
   "name": "python",
   "nbconvert_exporter": "python",
   "pygments_lexer": "ipython3",
   "version": "3.11.6"
  }
 },
 "nbformat": 4,
 "nbformat_minor": 5
}
